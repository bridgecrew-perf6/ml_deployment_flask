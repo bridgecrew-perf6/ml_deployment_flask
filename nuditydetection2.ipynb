{
 "cells": [
  {
   "cell_type": "markdown",
   "id": "396ea09f",
   "metadata": {
    "papermill": {
     "duration": 0.026688,
     "end_time": "2022-05-25T10:14:44.897451",
     "exception": false,
     "start_time": "2022-05-25T10:14:44.870763",
     "status": "completed"
    },
    "tags": []
   },
   "source": [
    "# Importing Packages"
   ]
  },
  {
   "cell_type": "code",
   "execution_count": 1,
   "id": "7747d729",
   "metadata": {
    "execution": {
     "iopub.execute_input": "2022-05-25T10:14:44.957491Z",
     "iopub.status.busy": "2022-05-25T10:14:44.956827Z",
     "iopub.status.idle": "2022-05-25T10:14:49.931573Z",
     "shell.execute_reply": "2022-05-25T10:14:49.930295Z",
     "shell.execute_reply.started": "2022-05-25T09:28:57.281238Z"
    },
    "papermill": {
     "duration": 5.009781,
     "end_time": "2022-05-25T10:14:49.931782",
     "exception": false,
     "start_time": "2022-05-25T10:14:44.922001",
     "status": "completed"
    },
    "tags": []
   },
   "outputs": [],
   "source": [
    "import os\n",
    "import numpy as np\n",
    "import matplotlib.pyplot as plt\n",
    "import pandas as pd\n",
    "import tensorflow as tf"
   ]
  },
  {
   "cell_type": "markdown",
   "id": "e35942d4",
   "metadata": {
    "papermill": {
     "duration": 0.025264,
     "end_time": "2022-05-25T10:14:49.982108",
     "exception": false,
     "start_time": "2022-05-25T10:14:49.956844",
     "status": "completed"
    },
    "tags": []
   },
   "source": [
    "# Defining paths"
   ]
  },
  {
   "cell_type": "code",
   "execution_count": 2,
   "id": "bf4863ab",
   "metadata": {
    "execution": {
     "iopub.execute_input": "2022-05-25T10:14:50.035963Z",
     "iopub.status.busy": "2022-05-25T10:14:50.035109Z",
     "iopub.status.idle": "2022-05-25T10:14:50.037626Z",
     "shell.execute_reply": "2022-05-25T10:14:50.037117Z",
     "shell.execute_reply.started": "2022-05-25T09:22:28.427306Z"
    },
    "papermill": {
     "duration": 0.030736,
     "end_time": "2022-05-25T10:14:50.037725",
     "exception": false,
     "start_time": "2022-05-25T10:14:50.006989",
     "status": "completed"
    },
    "tags": []
   },
   "outputs": [],
   "source": [
    "train_path='../input/my-nsfw-dataset/train/train/'"
   ]
  },
  {
   "cell_type": "code",
   "execution_count": 3,
   "id": "9077bbb9",
   "metadata": {
    "execution": {
     "iopub.execute_input": "2022-05-25T10:14:50.092160Z",
     "iopub.status.busy": "2022-05-25T10:14:50.091598Z",
     "iopub.status.idle": "2022-05-25T10:14:50.481719Z",
     "shell.execute_reply": "2022-05-25T10:14:50.482547Z",
     "shell.execute_reply.started": "2022-05-25T09:22:44.347699Z"
    },
    "papermill": {
     "duration": 0.420825,
     "end_time": "2022-05-25T10:14:50.482704",
     "exception": false,
     "start_time": "2022-05-25T10:14:50.061879",
     "status": "completed"
    },
    "tags": []
   },
   "outputs": [],
   "source": [
    "nsfw=os.listdir(train_path+'NSFW/')\n",
    "sfw=os.listdir(train_path+'SFW/')\n",
    "test_path='../input/my-nsfw-dataset/test/test/'\n",
    "test=os.listdir(test_path)"
   ]
  },
  {
   "cell_type": "markdown",
   "id": "ef82ecb4",
   "metadata": {
    "papermill": {
     "duration": 0.024626,
     "end_time": "2022-05-25T10:14:50.532024",
     "exception": false,
     "start_time": "2022-05-25T10:14:50.507398",
     "status": "completed"
    },
    "tags": []
   },
   "source": [
    "# Importing VGG-16 Pretrained model"
   ]
  },
  {
   "cell_type": "code",
   "execution_count": 4,
   "id": "2a346c8c",
   "metadata": {
    "execution": {
     "iopub.execute_input": "2022-05-25T10:14:50.589047Z",
     "iopub.status.busy": "2022-05-25T10:14:50.588513Z",
     "iopub.status.idle": "2022-05-25T10:14:53.702515Z",
     "shell.execute_reply": "2022-05-25T10:14:53.701649Z",
     "shell.execute_reply.started": "2022-05-25T09:22:50.559382Z"
    },
    "papermill": {
     "duration": 3.145242,
     "end_time": "2022-05-25T10:14:53.702668",
     "exception": false,
     "start_time": "2022-05-25T10:14:50.557426",
     "status": "completed"
    },
    "tags": []
   },
   "outputs": [
    {
     "name": "stdout",
     "output_type": "stream",
     "text": [
      "Downloading data from https://storage.googleapis.com/tensorflow/keras-applications/vgg16/vgg16_weights_tf_dim_ordering_tf_kernels_notop.h5\n",
      "58892288/58889256 [==============================] - 1s 0us/step\n"
     ]
    }
   ],
   "source": [
    "vgg16 = tf.keras.applications.VGG16(include_top=False)\n",
    "preprocess_input = tf.keras.applications.vgg16.preprocess_input\n",
    "image = tf.keras.preprocessing.image"
   ]
  },
  {
   "cell_type": "code",
   "execution_count": 5,
   "id": "ade5707c",
   "metadata": {
    "execution": {
     "iopub.execute_input": "2022-05-25T10:14:53.762962Z",
     "iopub.status.busy": "2022-05-25T10:14:53.762416Z",
     "iopub.status.idle": "2022-05-25T10:14:53.766152Z",
     "shell.execute_reply": "2022-05-25T10:14:53.765722Z",
     "shell.execute_reply.started": "2022-05-25T09:22:59.319309Z"
    },
    "papermill": {
     "duration": 0.035058,
     "end_time": "2022-05-25T10:14:53.766267",
     "exception": false,
     "start_time": "2022-05-25T10:14:53.731209",
     "status": "completed"
    },
    "tags": []
   },
   "outputs": [],
   "source": [
    "batch_size=20"
   ]
  },
  {
   "cell_type": "markdown",
   "id": "de88895d",
   "metadata": {
    "papermill": {
     "duration": 0.027667,
     "end_time": "2022-05-25T10:14:53.821412",
     "exception": false,
     "start_time": "2022-05-25T10:14:53.793745",
     "status": "completed"
    },
    "tags": []
   },
   "source": [
    "# Extracting Features"
   ]
  },
  {
   "cell_type": "code",
   "execution_count": 6,
   "id": "0d62949a",
   "metadata": {
    "execution": {
     "iopub.execute_input": "2022-05-25T10:14:53.884049Z",
     "iopub.status.busy": "2022-05-25T10:14:53.883471Z",
     "iopub.status.idle": "2022-05-25T10:14:53.887191Z",
     "shell.execute_reply": "2022-05-25T10:14:53.886737Z",
     "shell.execute_reply.started": "2022-05-25T09:23:26.033954Z"
    },
    "papermill": {
     "duration": 0.037846,
     "end_time": "2022-05-25T10:14:53.887297",
     "exception": false,
     "start_time": "2022-05-25T10:14:53.849451",
     "status": "completed"
    },
    "tags": []
   },
   "outputs": [],
   "source": [
    "def extract_features(img_paths, batch_size=batch_size):\n",
    "\n",
    "    global vgg16\n",
    "    n = len(img_paths)\n",
    "    img_array = np.zeros((n, 300, 300, 3))\n",
    "    \n",
    "    for i, path in enumerate(img_paths):\n",
    "        img = image.load_img(path, target_size=(300, 300))\n",
    "        img = image.img_to_array(img)\n",
    "        img = np.expand_dims(img, axis=0)\n",
    "        x = preprocess_input(img)\n",
    "        img_array[i] = x\n",
    "    \n",
    "    X = vgg16.predict(img_array, batch_size=batch_size, verbose=1)\n",
    "    X = X.reshape(n, 512, -1)\n",
    "    return X\n"
   ]
  },
  {
   "cell_type": "code",
   "execution_count": 7,
   "id": "e1df067b",
   "metadata": {
    "execution": {
     "iopub.execute_input": "2022-05-25T10:14:53.947302Z",
     "iopub.status.busy": "2022-05-25T10:14:53.946699Z",
     "iopub.status.idle": "2022-05-25T10:16:14.435958Z",
     "shell.execute_reply": "2022-05-25T10:16:14.436596Z",
     "shell.execute_reply.started": "2022-05-25T09:23:41.109910Z"
    },
    "papermill": {
     "duration": 80.521783,
     "end_time": "2022-05-25T10:16:14.436824",
     "exception": false,
     "start_time": "2022-05-25T10:14:53.915041",
     "status": "completed"
    },
    "tags": []
   },
   "outputs": [
    {
     "name": "stderr",
     "output_type": "stream",
     "text": [
      "/opt/conda/lib/python3.7/site-packages/PIL/Image.py:2858: DecompressionBombWarning: Image size (147659204 pixels) exceeds limit of 89478485 pixels, could be decompression bomb DOS attack.\n",
      "  DecompressionBombWarning,\n"
     ]
    },
    {
     "name": "stdout",
     "output_type": "stream",
     "text": [
      "74/74 [==============================] - 20s 130ms/step\n"
     ]
    }
   ],
   "source": [
    "X = extract_features(\n",
    "    list(map(lambda x: train_path + 'NSFW/' + x, nsfw)) + list(map(lambda x: train_path + 'SFW/' + x, sfw))\n",
    ") \n",
    "y = np.array([1] * len(nsfw) + [0] * len(sfw))"
   ]
  },
  {
   "cell_type": "code",
   "execution_count": 8,
   "id": "63009cac",
   "metadata": {
    "execution": {
     "iopub.execute_input": "2022-05-25T10:16:14.601135Z",
     "iopub.status.busy": "2022-05-25T10:16:14.600289Z",
     "iopub.status.idle": "2022-05-25T10:16:22.074423Z",
     "shell.execute_reply": "2022-05-25T10:16:22.073878Z",
     "shell.execute_reply.started": "2022-05-25T09:25:02.574252Z"
    },
    "papermill": {
     "duration": 7.557628,
     "end_time": "2022-05-25T10:16:22.074557",
     "exception": false,
     "start_time": "2022-05-25T10:16:14.516929",
     "status": "completed"
    },
    "tags": []
   },
   "outputs": [
    {
     "name": "stdout",
     "output_type": "stream",
     "text": [
      "10/10 [==============================] - 1s 104ms/step\n"
     ]
    }
   ],
   "source": [
    "X_test = extract_features(\n",
    "    list(map(lambda x: test_path + x, test))\n",
    ")\n",
    "y_test = np.array([1] * len(nsfw) + [0] * len(sfw))"
   ]
  },
  {
   "cell_type": "markdown",
   "id": "d952b516",
   "metadata": {
    "papermill": {
     "duration": 0.056182,
     "end_time": "2022-05-25T10:16:22.187972",
     "exception": false,
     "start_time": "2022-05-25T10:16:22.131790",
     "status": "completed"
    },
    "tags": []
   },
   "source": [
    "# Training the model"
   ]
  },
  {
   "cell_type": "code",
   "execution_count": 9,
   "id": "22a0a019",
   "metadata": {
    "execution": {
     "iopub.execute_input": "2022-05-25T10:16:22.296993Z",
     "iopub.status.busy": "2022-05-25T10:16:22.296433Z",
     "iopub.status.idle": "2022-05-25T10:16:22.300151Z",
     "shell.execute_reply": "2022-05-25T10:16:22.299690Z",
     "shell.execute_reply.started": "2022-05-25T09:34:01.767150Z"
    },
    "papermill": {
     "duration": 0.057383,
     "end_time": "2022-05-25T10:16:22.300264",
     "exception": false,
     "start_time": "2022-05-25T10:16:22.242881",
     "status": "completed"
    },
    "tags": []
   },
   "outputs": [],
   "source": [
    "def train():\n",
    "    model = tf.keras.models.Sequential([ \n",
    "      tf.keras.layers.Flatten(),\n",
    "      tf.keras.layers.Dense(1024, activation='relu'),\n",
    "      tf.keras.layers.Dropout(0.2), \n",
    "\n",
    "      tf.keras.layers.Dense(1, activation='sigmoid')\n",
    "\n",
    "    ])\n",
    "    return model"
   ]
  },
  {
   "cell_type": "code",
   "execution_count": 10,
   "id": "c01ab3da",
   "metadata": {
    "execution": {
     "iopub.execute_input": "2022-05-25T10:16:22.403373Z",
     "iopub.status.busy": "2022-05-25T10:16:22.402718Z",
     "iopub.status.idle": "2022-05-25T10:16:23.249321Z",
     "shell.execute_reply": "2022-05-25T10:16:23.248213Z",
     "shell.execute_reply.started": "2022-05-25T09:34:06.216418Z"
    },
    "papermill": {
     "duration": 0.899277,
     "end_time": "2022-05-25T10:16:23.249462",
     "exception": false,
     "start_time": "2022-05-25T10:16:22.350185",
     "status": "completed"
    },
    "tags": []
   },
   "outputs": [],
   "source": [
    "from sklearn.model_selection import train_test_split\n",
    "X_train, X_test, y_train, y_test = train_test_split(X, y, random_state=42)"
   ]
  },
  {
   "cell_type": "code",
   "execution_count": 11,
   "id": "65afe428",
   "metadata": {
    "execution": {
     "iopub.execute_input": "2022-05-25T10:16:23.354744Z",
     "iopub.status.busy": "2022-05-25T10:16:23.353561Z",
     "iopub.status.idle": "2022-05-25T10:16:23.428574Z",
     "shell.execute_reply": "2022-05-25T10:16:23.428107Z",
     "shell.execute_reply.started": "2022-05-25T09:34:06.747280Z"
    },
    "papermill": {
     "duration": 0.129792,
     "end_time": "2022-05-25T10:16:23.428704",
     "exception": false,
     "start_time": "2022-05-25T10:16:23.298912",
     "status": "completed"
    },
    "tags": []
   },
   "outputs": [],
   "source": [
    "from sklearn.model_selection import train_test_split\n",
    "X_train, X_val, y_train, y_val = train_test_split(X, y, test_size = 0.2, random_state=42)"
   ]
  },
  {
   "cell_type": "code",
   "execution_count": 12,
   "id": "6ad004bb",
   "metadata": {
    "execution": {
     "iopub.execute_input": "2022-05-25T10:16:23.533741Z",
     "iopub.status.busy": "2022-05-25T10:16:23.533093Z",
     "iopub.status.idle": "2022-05-25T10:16:34.887844Z",
     "shell.execute_reply": "2022-05-25T10:16:34.888352Z",
     "shell.execute_reply.started": "2022-05-25T09:34:10.626697Z"
    },
    "papermill": {
     "duration": 11.410268,
     "end_time": "2022-05-25T10:16:34.888533",
     "exception": false,
     "start_time": "2022-05-25T10:16:23.478265",
     "status": "completed"
    },
    "tags": []
   },
   "outputs": [
    {
     "name": "stdout",
     "output_type": "stream",
     "text": [
      "Epoch 1/20\n",
      "59/59 [==============================] - 1s 17ms/step - loss: 22.1401 - accuracy: 0.8338 - val_loss: 8.8982 - val_accuracy: 0.9133\n",
      "Epoch 2/20\n",
      "59/59 [==============================] - 1s 9ms/step - loss: 2.0782 - accuracy: 0.9617 - val_loss: 9.4227 - val_accuracy: 0.9187\n",
      "Epoch 3/20\n",
      "59/59 [==============================] - 1s 9ms/step - loss: 1.0974 - accuracy: 0.9772 - val_loss: 10.7018 - val_accuracy: 0.9187\n",
      "Epoch 4/20\n",
      "59/59 [==============================] - 1s 10ms/step - loss: 0.5727 - accuracy: 0.9899 - val_loss: 10.0328 - val_accuracy: 0.9268\n",
      "Epoch 5/20\n",
      "59/59 [==============================] - 1s 9ms/step - loss: 0.1877 - accuracy: 0.9971 - val_loss: 8.7737 - val_accuracy: 0.9322\n",
      "Epoch 6/20\n",
      "59/59 [==============================] - 0s 8ms/step - loss: 0.0077 - accuracy: 0.9999 - val_loss: 10.1684 - val_accuracy: 0.9295\n",
      "Epoch 7/20\n",
      "59/59 [==============================] - 0s 8ms/step - loss: 0.1058 - accuracy: 0.9972 - val_loss: 9.6885 - val_accuracy: 0.9241\n",
      "Epoch 8/20\n",
      "59/59 [==============================] - 0s 8ms/step - loss: 0.2084 - accuracy: 0.9920 - val_loss: 9.5986 - val_accuracy: 0.9187\n",
      "Epoch 9/20\n",
      "59/59 [==============================] - 0s 8ms/step - loss: 0.0872 - accuracy: 0.9973 - val_loss: 15.1288 - val_accuracy: 0.9106\n",
      "Epoch 10/20\n",
      "59/59 [==============================] - 0s 8ms/step - loss: 0.1301 - accuracy: 0.9934 - val_loss: 10.6235 - val_accuracy: 0.9214\n",
      "Epoch 11/20\n",
      "59/59 [==============================] - 1s 9ms/step - loss: 0.0101 - accuracy: 0.9997 - val_loss: 14.9085 - val_accuracy: 0.9106\n",
      "Epoch 12/20\n",
      "59/59 [==============================] - 0s 8ms/step - loss: 0.0778 - accuracy: 0.9984 - val_loss: 9.9361 - val_accuracy: 0.9268\n",
      "Epoch 13/20\n",
      "59/59 [==============================] - 1s 9ms/step - loss: 0.0069 - accuracy: 0.9978 - val_loss: 10.7516 - val_accuracy: 0.9268\n",
      "Epoch 14/20\n",
      "59/59 [==============================] - 0s 8ms/step - loss: 0.0188 - accuracy: 0.9994 - val_loss: 11.0190 - val_accuracy: 0.9214\n",
      "Epoch 15/20\n",
      "59/59 [==============================] - 0s 8ms/step - loss: 0.0551 - accuracy: 0.9980 - val_loss: 12.9704 - val_accuracy: 0.9160\n",
      "Epoch 16/20\n",
      "59/59 [==============================] - 1s 9ms/step - loss: 0.5442 - accuracy: 0.9925 - val_loss: 12.5752 - val_accuracy: 0.9241\n",
      "Epoch 17/20\n",
      "59/59 [==============================] - 0s 8ms/step - loss: 0.0965 - accuracy: 0.9972 - val_loss: 12.6936 - val_accuracy: 0.9160\n",
      "Epoch 18/20\n",
      "59/59 [==============================] - 0s 8ms/step - loss: 0.0333 - accuracy: 0.9980 - val_loss: 12.5832 - val_accuracy: 0.9295\n",
      "Epoch 19/20\n",
      "59/59 [==============================] - 0s 8ms/step - loss: 4.3437e-22 - accuracy: 1.0000 - val_loss: 12.5332 - val_accuracy: 0.9295\n",
      "Epoch 20/20\n",
      "59/59 [==============================] - 0s 8ms/step - loss: 1.0211e-09 - accuracy: 1.0000 - val_loss: 12.5326 - val_accuracy: 0.9295\n"
     ]
    }
   ],
   "source": [
    "from keras.models import Sequential\n",
    "from keras.layers import Conv2D, MaxPooling2D\n",
    "from keras.layers import Activation, Dropout, Dense\n",
    "from tensorflow.keras.optimizers import RMSprop\n",
    "np.random.seed(42)\n",
    "\n",
    "epochs = 20\n",
    "\n",
    "model = train()\n",
    "model.compile(optimizer='adam',\n",
    "              loss='binary_crossentropy',\n",
    "              metrics=['accuracy'])\n",
    "\n",
    "history = model.fit(X_train, y_train,\n",
    "                    validation_data=(X_test,y_test),\n",
    "                    batch_size=batch_size,\n",
    "                    epochs=epochs)"
   ]
  },
  {
   "cell_type": "markdown",
   "id": "0d28bc82",
   "metadata": {
    "papermill": {
     "duration": 0.094917,
     "end_time": "2022-05-25T10:16:35.080266",
     "exception": false,
     "start_time": "2022-05-25T10:16:34.985349",
     "status": "completed"
    },
    "tags": []
   },
   "source": [
    "# Training and Loss Graph"
   ]
  },
  {
   "cell_type": "code",
   "execution_count": 13,
   "id": "0feb290c",
   "metadata": {
    "execution": {
     "iopub.execute_input": "2022-05-25T10:16:35.290058Z",
     "iopub.status.busy": "2022-05-25T10:16:35.283733Z",
     "iopub.status.idle": "2022-05-25T10:16:35.461185Z",
     "shell.execute_reply": "2022-05-25T10:16:35.460714Z",
     "shell.execute_reply.started": "2022-05-25T09:34:25.755809Z"
    },
    "papermill": {
     "duration": 0.286302,
     "end_time": "2022-05-25T10:16:35.461310",
     "exception": false,
     "start_time": "2022-05-25T10:16:35.175008",
     "status": "completed"
    },
    "tags": []
   },
   "outputs": [
    {
     "data": {
      "text/plain": [
       "<matplotlib.legend.Legend at 0x7fc0da30bc50>"
      ]
     },
     "execution_count": 13,
     "metadata": {},
     "output_type": "execute_result"
    },
    {
     "data": {
      "image/png": "[encoded data removed]",
      "text/plain": [
       "<Figure size 432x288 with 1 Axes>"
      ]
     },
     "metadata": {
      "needs_background": "light"
     },
     "output_type": "display_data"
    }
   ],
   "source": [
    "plt.plot(range(1,epochs+1), history.history['accuracy'], label='train')\n",
    "plt.plot(range(1,epochs+1), history.history['val_accuracy'], label='test')\n",
    "plt.legend()"
   ]
  },
  {
   "cell_type": "code",
   "execution_count": 14,
   "id": "7643c36c",
   "metadata": {
    "execution": {
     "iopub.execute_input": "2022-05-25T10:16:35.713883Z",
     "iopub.status.busy": "2022-05-25T10:16:35.710356Z",
     "iopub.status.idle": "2022-05-25T10:16:35.862286Z",
     "shell.execute_reply": "2022-05-25T10:16:35.862684Z",
     "shell.execute_reply.started": "2022-05-25T09:37:02.955071Z"
    },
    "papermill": {
     "duration": 0.273399,
     "end_time": "2022-05-25T10:16:35.862820",
     "exception": false,
     "start_time": "2022-05-25T10:16:35.589421",
     "status": "completed"
    },
    "tags": []
   },
   "outputs": [
    {
     "data": {
      "text/plain": [
       "<matplotlib.legend.Legend at 0x7fc0d4bbe050>"
      ]
     },
     "execution_count": 14,
     "metadata": {},
     "output_type": "execute_result"
    },
    {
     "data": {
      "image/png": "[encoded data removed]",
      "text/plain": [
       "<Figure size 432x288 with 1 Axes>"
      ]
     },
     "metadata": {
      "needs_background": "light"
     },
     "output_type": "display_data"
    }
   ],
   "source": [
    "plt.plot(range(1,epochs+1), history.history['loss'], label='train loss')\n",
    "plt.plot(range(1,epochs+1), history.history['val_loss'], label='test loss')\n",
    "plt.legend()"
   ]
  },
  {
   "cell_type": "markdown",
   "id": "caf9aa57",
   "metadata": {
    "papermill": {
     "duration": 0.097194,
     "end_time": "2022-05-25T10:16:36.071674",
     "exception": false,
     "start_time": "2022-05-25T10:16:35.974480",
     "status": "completed"
    },
    "tags": []
   },
   "source": [
    "# Prediction"
   ]
  },
  {
   "cell_type": "code",
   "execution_count": 15,
   "id": "7b8cd6b5",
   "metadata": {
    "execution": {
     "iopub.execute_input": "2022-05-25T10:16:36.293281Z",
     "iopub.status.busy": "2022-05-25T10:16:36.292656Z",
     "iopub.status.idle": "2022-05-25T10:16:36.420904Z",
     "shell.execute_reply": "2022-05-25T10:16:36.420021Z",
     "shell.execute_reply.started": "2022-05-25T09:37:06.883425Z"
    },
    "papermill": {
     "duration": 0.238877,
     "end_time": "2022-05-25T10:16:36.421049",
     "exception": false,
     "start_time": "2022-05-25T10:16:36.182172",
     "status": "completed"
    },
    "tags": []
   },
   "outputs": [],
   "source": [
    "import cv2"
   ]
  },
  {
   "cell_type": "markdown",
   "id": "54694976",
   "metadata": {
    "papermill": {
     "duration": 0.097361,
     "end_time": "2022-05-25T10:16:36.617822",
     "exception": false,
     "start_time": "2022-05-25T10:16:36.520461",
     "status": "completed"
    },
    "tags": []
   },
   "source": [
    "# Detecting Nude image"
   ]
  },
  {
   "cell_type": "code",
   "execution_count": 16,
   "id": "fcc5069a",
   "metadata": {
    "execution": {
     "iopub.execute_input": "2022-05-25T10:16:36.823281Z",
     "iopub.status.busy": "2022-05-25T10:16:36.822203Z",
     "iopub.status.idle": "2022-05-25T10:16:40.859247Z",
     "shell.execute_reply": "2022-05-25T10:16:40.858697Z",
     "shell.execute_reply.started": "2022-05-25T09:37:14.155203Z"
    },
    "papermill": {
     "duration": 4.144597,
     "end_time": "2022-05-25T10:16:40.859393",
     "exception": false,
     "start_time": "2022-05-25T10:16:36.714796",
     "status": "completed"
    },
    "tags": []
   },
   "outputs": [
    {
     "name": "stdout",
     "output_type": "stream",
     "text": [
      "10/10 [==============================] - 1s 103ms/step\n"
     ]
    }
   ],
   "source": [
    "X_test = extract_features(\n",
    "    list(map(lambda x: '../input/my-nsfw-dataset/test/test/NSFW (2).jpg' , test))\n",
    ")"
   ]
  },
  {
   "cell_type": "code",
   "execution_count": 17,
   "id": "0c51fba3",
   "metadata": {
    "execution": {
     "iopub.execute_input": "2022-05-25T10:16:41.086598Z",
     "iopub.status.busy": "2022-05-25T10:16:41.085651Z",
     "iopub.status.idle": "2022-05-25T10:16:41.188581Z",
     "shell.execute_reply": "2022-05-25T10:16:41.189331Z",
     "shell.execute_reply.started": "2022-05-25T09:37:25.870873Z"
    },
    "papermill": {
     "duration": 0.216334,
     "end_time": "2022-05-25T10:16:41.189500",
     "exception": false,
     "start_time": "2022-05-25T10:16:40.973166",
     "status": "completed"
    },
    "tags": []
   },
   "outputs": [
    {
     "name": "stdout",
     "output_type": "stream",
     "text": [
      "This image is not safe to use and it depicts Nudity\n"
     ]
    }
   ],
   "source": [
    "y_pred = model.predict(X_test)\n",
    "if(y_pred>0.5).all():\n",
    "    print(\"This image is not safe to use and it depicts Nudity\")\n",
    "elif(y_pred<0.5).all():\n",
    "    print(\"Safe to use\")\n",
    "else:\n",
    "    print(\"Invalid Image\")"
   ]
  },
  {
   "cell_type": "markdown",
   "id": "b4f8f89a",
   "metadata": {
    "papermill": {
     "duration": 0.10073,
     "end_time": "2022-05-25T10:16:41.392549",
     "exception": false,
     "start_time": "2022-05-25T10:16:41.291819",
     "status": "completed"
    },
    "tags": []
   },
   "source": [
    "**Our model has detected it accurately as Nudity. The image can't be displayed here as it is a sensual content**"
   ]
  },
  {
   "cell_type": "code",
   "execution_count": 18,
   "id": "e4c70eaf",
   "metadata": {
    "execution": {
     "iopub.execute_input": "2022-05-25T10:16:41.599002Z",
     "iopub.status.busy": "2022-05-25T10:16:41.598161Z",
     "iopub.status.idle": "2022-05-25T10:16:42.537892Z",
     "shell.execute_reply": "2022-05-25T10:16:42.537397Z",
     "shell.execute_reply.started": "2022-05-25T09:39:30.886703Z"
    },
    "papermill": {
     "duration": 1.045101,
     "end_time": "2022-05-25T10:16:42.538036",
     "exception": false,
     "start_time": "2022-05-25T10:16:41.492935",
     "status": "completed"
    },
    "tags": []
   },
   "outputs": [],
   "source": [
    "#save .h5 model\n",
    "model.save('model_nudity_detection.h5')"
   ]
  },
  {
   "cell_type": "code",
   "execution_count": 19,
   "id": "44d4ce46",
   "metadata": {
    "execution": {
     "iopub.execute_input": "2022-05-25T10:16:42.747837Z",
     "iopub.status.busy": "2022-05-25T10:16:42.747016Z",
     "iopub.status.idle": "2022-05-25T10:16:44.264548Z",
     "shell.execute_reply": "2022-05-25T10:16:44.263966Z",
     "shell.execute_reply.started": "2022-05-25T09:42:08.328296Z"
    },
    "papermill": {
     "duration": 1.623438,
     "end_time": "2022-05-25T10:16:44.264701",
     "exception": false,
     "start_time": "2022-05-25T10:16:42.641263",
     "status": "completed"
    },
    "tags": []
   },
   "outputs": [],
   "source": [
    "#save model .pb\n",
    "export_dir = 'saved_model_nudity'\n",
    "tf.saved_model.save(model, export_dir)"
   ]
  },
  {
   "cell_type": "code",
   "execution_count": 20,
   "id": "0b2720bd",
   "metadata": {
    "execution": {
     "iopub.execute_input": "2022-05-25T10:16:44.483180Z",
     "iopub.status.busy": "2022-05-25T10:16:44.482563Z",
     "iopub.status.idle": "2022-05-25T10:16:45.204577Z",
     "shell.execute_reply": "2022-05-25T10:16:45.204058Z",
     "shell.execute_reply.started": "2022-05-25T09:43:42.729219Z"
    },
    "papermill": {
     "duration": 0.828444,
     "end_time": "2022-05-25T10:16:45.204704",
     "exception": false,
     "start_time": "2022-05-25T10:16:44.376260",
     "status": "completed"
    },
    "tags": []
   },
   "outputs": [
    {
     "name": "stdout",
     "output_type": "stream",
     "text": [
      "__notebook__.ipynb  model_nudity_detection.h5  saved_model_nudity\n"
     ]
    }
   ],
   "source": [
    "!ls ./"
   ]
  },
  {
   "cell_type": "code",
   "execution_count": 21,
   "id": "a1248304",
   "metadata": {
    "execution": {
     "iopub.execute_input": "2022-05-25T10:16:45.443245Z",
     "iopub.status.busy": "2022-05-25T10:16:45.416721Z",
     "iopub.status.idle": "2022-05-25T10:17:10.391655Z",
     "shell.execute_reply": "2022-05-25T10:17:10.391152Z",
     "shell.execute_reply.started": "2022-05-25T09:43:13.356329Z"
    },
    "papermill": {
     "duration": 25.08396,
     "end_time": "2022-05-25T10:17:10.391796",
     "exception": false,
     "start_time": "2022-05-25T10:16:45.307836",
     "status": "completed"
    },
    "tags": []
   },
   "outputs": [
    {
     "name": "stdout",
     "output_type": "stream",
     "text": [
      "  adding: saved_model_nudity/ (stored 0%)\n",
      "  adding: saved_model_nudity/variables/ (stored 0%)\n",
      "  adding: saved_model_nudity/variables/variables.index (deflated 59%)\n",
      "  adding: saved_model_nudity/variables/variables.data-00000-of-00001 (deflated 35%)\n",
      "  adding: saved_model_nudity/assets/ (stored 0%)\n",
      "  adding: saved_model_nudity/saved_model.pb (deflated 87%)\n"
     ]
    }
   ],
   "source": [
    "#ubah ke zip\n",
    "!zip -r ./saved_model_nudity.zip ./saved_model_nudity"
   ]
  },
  {
   "cell_type": "code",
   "execution_count": 22,
   "id": "747b29d0",
   "metadata": {
    "execution": {
     "iopub.execute_input": "2022-05-25T10:17:10.676063Z",
     "iopub.status.busy": "2022-05-25T10:17:10.675283Z",
     "iopub.status.idle": "2022-05-25T10:17:10.678105Z",
     "shell.execute_reply": "2022-05-25T10:17:10.676543Z",
     "shell.execute_reply.started": "2022-05-25T09:47:20.294934Z"
    },
    "papermill": {
     "duration": 0.181015,
     "end_time": "2022-05-25T10:17:10.678293",
     "exception": false,
     "start_time": "2022-05-25T10:17:10.497278",
     "status": "completed"
    },
    "tags": []
   },
   "outputs": [
    {
     "name": "stdout",
     "output_type": "stream",
     "text": [
      "509660112\n"
     ]
    }
   ],
   "source": [
    "import os\n",
    "\n",
    "file_stat = os.stat('model_nudity_detection.h5')\n",
    "print(file_stat.st_size)"
   ]
  },
  {
   "cell_type": "code",
   "execution_count": 23,
   "id": "d0fd39e7",
   "metadata": {
    "execution": {
     "iopub.execute_input": "2022-05-25T10:17:11.039104Z",
     "iopub.status.busy": "2022-05-25T10:17:11.038330Z",
     "iopub.status.idle": "2022-05-25T10:17:11.042887Z",
     "shell.execute_reply": "2022-05-25T10:17:11.043556Z",
     "shell.execute_reply.started": "2022-05-25T09:44:21.429478Z"
    },
    "papermill": {
     "duration": 0.186019,
     "end_time": "2022-05-25T10:17:11.043747",
     "exception": false,
     "start_time": "2022-05-25T10:17:10.857728",
     "status": "completed"
    },
    "tags": []
   },
   "outputs": [
    {
     "data": {
      "text/html": [
       "<a href='./saved_model_nudity.zip' target='_blank'>./saved_model_nudity.zip</a><br>"
      ],
      "text/plain": [
       "/kaggle/working/saved_model_nudity.zip"
      ]
     },
     "execution_count": 23,
     "metadata": {},
     "output_type": "execute_result"
    }
   ],
   "source": [
    "#link for download file\n",
    "from IPython.display import FileLink\n",
    "\n",
    "FileLink(r'./saved_model_nudity.zip')"
   ]
  },
  {
   "cell_type": "markdown",
   "id": "d2ef0f21",
   "metadata": {
    "papermill": {
     "duration": 0.106019,
     "end_time": "2022-05-25T10:17:11.294262",
     "exception": false,
     "start_time": "2022-05-25T10:17:11.188243",
     "status": "completed"
    },
    "tags": []
   },
   "source": [
    "# Safe Image"
   ]
  },
  {
   "cell_type": "markdown",
   "id": "885efcdf",
   "metadata": {
    "papermill": {
     "duration": 0.101481,
     "end_time": "2022-05-25T10:17:11.498015",
     "exception": false,
     "start_time": "2022-05-25T10:17:11.396534",
     "status": "completed"
    },
    "tags": []
   },
   "source": [
    "**These are the safe images that we use for testing**"
   ]
  },
  {
   "cell_type": "code",
   "execution_count": 24,
   "id": "33fd4733",
   "metadata": {
    "execution": {
     "iopub.execute_input": "2022-05-25T10:17:11.705735Z",
     "iopub.status.busy": "2022-05-25T10:17:11.705110Z",
     "iopub.status.idle": "2022-05-25T10:17:11.875390Z",
     "shell.execute_reply": "2022-05-25T10:17:11.874805Z",
     "shell.execute_reply.started": "2022-05-25T09:57:42.124187Z"
    },
    "papermill": {
     "duration": 0.276245,
     "end_time": "2022-05-25T10:17:11.875652",
     "exception": true,
     "start_time": "2022-05-25T10:17:11.599407",
     "status": "failed"
    },
    "tags": []
   },
   "outputs": [
    {
     "ename": "TypeError",
     "evalue": "Image data of dtype object cannot be converted to float",
     "output_type": "error",
     "traceback": [
      "\u001b[0;31m---------------------------------------------------------------------------\u001b[0m",
      "\u001b[0;31mTypeError\u001b[0m                                 Traceback (most recent call last)",
      "\u001b[0;32m<ipython-input-24-99fa824f6923>\u001b[0m in \u001b[0;36m<module>\u001b[0;34m\u001b[0m\n\u001b[0;32m----> 1\u001b[0;31m \u001b[0mplt\u001b[0m\u001b[0;34m.\u001b[0m\u001b[0mimshow\u001b[0m\u001b[0;34m(\u001b[0m\u001b[0mcv2\u001b[0m\u001b[0;34m.\u001b[0m\u001b[0mimread\u001b[0m\u001b[0;34m(\u001b[0m\u001b[0;34m'../input/safeee/s1.jpg'\u001b[0m\u001b[0;34m)\u001b[0m\u001b[0;34m)\u001b[0m\u001b[0;34m\u001b[0m\u001b[0;34m\u001b[0m\u001b[0m\n\u001b[0m",
      "\u001b[0;32m/opt/conda/lib/python3.7/site-packages/matplotlib/pyplot.py\u001b[0m in \u001b[0;36mimshow\u001b[0;34m(X, cmap, norm, aspect, interpolation, alpha, vmin, vmax, origin, extent, filternorm, filterrad, resample, url, data, **kwargs)\u001b[0m\n\u001b[1;32m   2907\u001b[0m         \u001b[0mfilternorm\u001b[0m\u001b[0;34m=\u001b[0m\u001b[0mfilternorm\u001b[0m\u001b[0;34m,\u001b[0m \u001b[0mfilterrad\u001b[0m\u001b[0;34m=\u001b[0m\u001b[0mfilterrad\u001b[0m\u001b[0;34m,\u001b[0m \u001b[0mresample\u001b[0m\u001b[0;34m=\u001b[0m\u001b[0mresample\u001b[0m\u001b[0;34m,\u001b[0m\u001b[0;34m\u001b[0m\u001b[0;34m\u001b[0m\u001b[0m\n\u001b[1;32m   2908\u001b[0m         \u001b[0murl\u001b[0m\u001b[0;34m=\u001b[0m\u001b[0murl\u001b[0m\u001b[0;34m,\u001b[0m \u001b[0;34m**\u001b[0m\u001b[0;34m(\u001b[0m\u001b[0;34m{\u001b[0m\u001b[0;34m\"data\"\u001b[0m\u001b[0;34m:\u001b[0m \u001b[0mdata\u001b[0m\u001b[0;34m}\u001b[0m \u001b[0;32mif\u001b[0m \u001b[0mdata\u001b[0m \u001b[0;32mis\u001b[0m \u001b[0;32mnot\u001b[0m \u001b[0;32mNone\u001b[0m \u001b[0;32melse\u001b[0m \u001b[0;34m{\u001b[0m\u001b[0;34m}\u001b[0m\u001b[0;34m)\u001b[0m\u001b[0;34m,\u001b[0m\u001b[0;34m\u001b[0m\u001b[0;34m\u001b[0m\u001b[0m\n\u001b[0;32m-> 2909\u001b[0;31m         **kwargs)\n\u001b[0m\u001b[1;32m   2910\u001b[0m     \u001b[0msci\u001b[0m\u001b[0;34m(\u001b[0m\u001b[0m__ret\u001b[0m\u001b[0;34m)\u001b[0m\u001b[0;34m\u001b[0m\u001b[0;34m\u001b[0m\u001b[0m\n\u001b[1;32m   2911\u001b[0m     \u001b[0;32mreturn\u001b[0m \u001b[0m__ret\u001b[0m\u001b[0;34m\u001b[0m\u001b[0;34m\u001b[0m\u001b[0m\n",
      "\u001b[0;32m/opt/conda/lib/python3.7/site-packages/matplotlib/__init__.py\u001b[0m in \u001b[0;36minner\u001b[0;34m(ax, data, *args, **kwargs)\u001b[0m\n\u001b[1;32m   1359\u001b[0m     \u001b[0;32mdef\u001b[0m \u001b[0minner\u001b[0m\u001b[0;34m(\u001b[0m\u001b[0max\u001b[0m\u001b[0;34m,\u001b[0m \u001b[0;34m*\u001b[0m\u001b[0margs\u001b[0m\u001b[0;34m,\u001b[0m \u001b[0mdata\u001b[0m\u001b[0;34m=\u001b[0m\u001b[0;32mNone\u001b[0m\u001b[0;34m,\u001b[0m \u001b[0;34m**\u001b[0m\u001b[0mkwargs\u001b[0m\u001b[0;34m)\u001b[0m\u001b[0;34m:\u001b[0m\u001b[0;34m\u001b[0m\u001b[0;34m\u001b[0m\u001b[0m\n\u001b[1;32m   1360\u001b[0m         \u001b[0;32mif\u001b[0m \u001b[0mdata\u001b[0m \u001b[0;32mis\u001b[0m \u001b[0;32mNone\u001b[0m\u001b[0;34m:\u001b[0m\u001b[0;34m\u001b[0m\u001b[0;34m\u001b[0m\u001b[0m\n\u001b[0;32m-> 1361\u001b[0;31m             \u001b[0;32mreturn\u001b[0m \u001b[0mfunc\u001b[0m\u001b[0;34m(\u001b[0m\u001b[0max\u001b[0m\u001b[0;34m,\u001b[0m \u001b[0;34m*\u001b[0m\u001b[0mmap\u001b[0m\u001b[0;34m(\u001b[0m\u001b[0msanitize_sequence\u001b[0m\u001b[0;34m,\u001b[0m \u001b[0margs\u001b[0m\u001b[0;34m)\u001b[0m\u001b[0;34m,\u001b[0m \u001b[0;34m**\u001b[0m\u001b[0mkwargs\u001b[0m\u001b[0;34m)\u001b[0m\u001b[0;34m\u001b[0m\u001b[0;34m\u001b[0m\u001b[0m\n\u001b[0m\u001b[1;32m   1362\u001b[0m \u001b[0;34m\u001b[0m\u001b[0m\n\u001b[1;32m   1363\u001b[0m         \u001b[0mbound\u001b[0m \u001b[0;34m=\u001b[0m \u001b[0mnew_sig\u001b[0m\u001b[0;34m.\u001b[0m\u001b[0mbind\u001b[0m\u001b[0;34m(\u001b[0m\u001b[0max\u001b[0m\u001b[0;34m,\u001b[0m \u001b[0;34m*\u001b[0m\u001b[0margs\u001b[0m\u001b[0;34m,\u001b[0m \u001b[0;34m**\u001b[0m\u001b[0mkwargs\u001b[0m\u001b[0;34m)\u001b[0m\u001b[0;34m\u001b[0m\u001b[0;34m\u001b[0m\u001b[0m\n",
      "\u001b[0;32m/opt/conda/lib/python3.7/site-packages/matplotlib/axes/_axes.py\u001b[0m in \u001b[0;36mimshow\u001b[0;34m(self, X, cmap, norm, aspect, interpolation, alpha, vmin, vmax, origin, extent, filternorm, filterrad, resample, url, **kwargs)\u001b[0m\n\u001b[1;32m   5607\u001b[0m                               resample=resample, **kwargs)\n\u001b[1;32m   5608\u001b[0m \u001b[0;34m\u001b[0m\u001b[0m\n\u001b[0;32m-> 5609\u001b[0;31m         \u001b[0mim\u001b[0m\u001b[0;34m.\u001b[0m\u001b[0mset_data\u001b[0m\u001b[0;34m(\u001b[0m\u001b[0mX\u001b[0m\u001b[0;34m)\u001b[0m\u001b[0;34m\u001b[0m\u001b[0;34m\u001b[0m\u001b[0m\n\u001b[0m\u001b[1;32m   5610\u001b[0m         \u001b[0mim\u001b[0m\u001b[0;34m.\u001b[0m\u001b[0mset_alpha\u001b[0m\u001b[0;34m(\u001b[0m\u001b[0malpha\u001b[0m\u001b[0;34m)\u001b[0m\u001b[0;34m\u001b[0m\u001b[0;34m\u001b[0m\u001b[0m\n\u001b[1;32m   5611\u001b[0m         \u001b[0;32mif\u001b[0m \u001b[0mim\u001b[0m\u001b[0;34m.\u001b[0m\u001b[0mget_clip_path\u001b[0m\u001b[0;34m(\u001b[0m\u001b[0;34m)\u001b[0m \u001b[0;32mis\u001b[0m \u001b[0;32mNone\u001b[0m\u001b[0;34m:\u001b[0m\u001b[0;34m\u001b[0m\u001b[0;34m\u001b[0m\u001b[0m\n",
      "\u001b[0;32m/opt/conda/lib/python3.7/site-packages/matplotlib/image.py\u001b[0m in \u001b[0;36mset_data\u001b[0;34m(self, A)\u001b[0m\n\u001b[1;32m    699\u001b[0m                 not np.can_cast(self._A.dtype, float, \"same_kind\")):\n\u001b[1;32m    700\u001b[0m             raise TypeError(\"Image data of dtype {} cannot be converted to \"\n\u001b[0;32m--> 701\u001b[0;31m                             \"float\".format(self._A.dtype))\n\u001b[0m\u001b[1;32m    702\u001b[0m \u001b[0;34m\u001b[0m\u001b[0m\n\u001b[1;32m    703\u001b[0m         \u001b[0;32mif\u001b[0m \u001b[0mself\u001b[0m\u001b[0;34m.\u001b[0m\u001b[0m_A\u001b[0m\u001b[0;34m.\u001b[0m\u001b[0mndim\u001b[0m \u001b[0;34m==\u001b[0m \u001b[0;36m3\u001b[0m \u001b[0;32mand\u001b[0m \u001b[0mself\u001b[0m\u001b[0;34m.\u001b[0m\u001b[0m_A\u001b[0m\u001b[0;34m.\u001b[0m\u001b[0mshape\u001b[0m\u001b[0;34m[\u001b[0m\u001b[0;34m-\u001b[0m\u001b[0;36m1\u001b[0m\u001b[0;34m]\u001b[0m \u001b[0;34m==\u001b[0m \u001b[0;36m1\u001b[0m\u001b[0;34m:\u001b[0m\u001b[0;34m\u001b[0m\u001b[0;34m\u001b[0m\u001b[0m\n",
      "\u001b[0;31mTypeError\u001b[0m: Image data of dtype object cannot be converted to float"
     ]
    },
    {
     "data": {
      "image/png": "[encoded data removed]",
      "text/plain": [
       "<Figure size 432x288 with 1 Axes>"
      ]
     },
     "metadata": {
      "needs_background": "light"
     },
     "output_type": "display_data"
    }
   ],
   "source": [
    "plt.imshow(cv2.imread('../input/safeee/s1.jpg'))"
   ]
  },
  {
   "cell_type": "code",
   "execution_count": null,
   "id": "f4e112d4",
   "metadata": {
    "execution": {
     "iopub.execute_input": "2021-09-02T04:11:54.618957Z",
     "iopub.status.busy": "2021-09-02T04:11:54.618612Z",
     "iopub.status.idle": "2021-09-02T04:11:54.763773Z",
     "shell.execute_reply": "2021-09-02T04:11:54.76281Z",
     "shell.execute_reply.started": "2021-09-02T04:11:54.618924Z"
    },
    "papermill": {
     "duration": null,
     "end_time": null,
     "exception": null,
     "start_time": null,
     "status": "pending"
    },
    "tags": []
   },
   "outputs": [],
   "source": [
    "plt.imshow(cv2.imread('../input/safeee/s2.jpg'))"
   ]
  },
  {
   "cell_type": "code",
   "execution_count": null,
   "id": "3b8143ea",
   "metadata": {
    "execution": {
     "iopub.execute_input": "2021-09-02T04:11:55.753951Z",
     "iopub.status.busy": "2021-09-02T04:11:55.753597Z",
     "iopub.status.idle": "2021-09-02T04:11:57.753872Z",
     "shell.execute_reply": "2021-09-02T04:11:57.753102Z",
     "shell.execute_reply.started": "2021-09-02T04:11:55.753919Z"
    },
    "papermill": {
     "duration": null,
     "end_time": null,
     "exception": null,
     "start_time": null,
     "status": "pending"
    },
    "tags": []
   },
   "outputs": [],
   "source": [
    "X_test = extract_features(\n",
    "    list(map(lambda x: '../input/safeee/s1.jpg' , test))\n",
    ")"
   ]
  },
  {
   "cell_type": "code",
   "execution_count": null,
   "id": "50968bf0",
   "metadata": {
    "execution": {
     "iopub.execute_input": "2021-09-02T04:11:58.778945Z",
     "iopub.status.busy": "2021-09-02T04:11:58.778604Z",
     "iopub.status.idle": "2021-09-02T04:11:58.864094Z",
     "shell.execute_reply": "2021-09-02T04:11:58.863276Z",
     "shell.execute_reply.started": "2021-09-02T04:11:58.778914Z"
    },
    "papermill": {
     "duration": null,
     "end_time": null,
     "exception": null,
     "start_time": null,
     "status": "pending"
    },
    "tags": []
   },
   "outputs": [],
   "source": [
    "y_pred = model.predict(X_test)\n",
    "if(y_pred>0.5).all():\n",
    "    print(\"This image is not safe to use and it depicts Nudity\")\n",
    "elif(y_pred<0.5).all():\n",
    "    print(\"Safe to use\")\n",
    "else:\n",
    "    print(\"Invalid Image\")"
   ]
  },
  {
   "cell_type": "code",
   "execution_count": null,
   "id": "61c9cffb",
   "metadata": {
    "execution": {
     "iopub.execute_input": "2021-09-02T04:12:01.582952Z",
     "iopub.status.busy": "2021-09-02T04:12:01.582621Z",
     "iopub.status.idle": "2021-09-02T04:12:03.59288Z",
     "shell.execute_reply": "2021-09-02T04:12:03.592031Z",
     "shell.execute_reply.started": "2021-09-02T04:12:01.58292Z"
    },
    "papermill": {
     "duration": null,
     "end_time": null,
     "exception": null,
     "start_time": null,
     "status": "pending"
    },
    "tags": []
   },
   "outputs": [],
   "source": [
    "X_test = extract_features(\n",
    "    list(map(lambda x: '../input/safeee/s2.jpg' , test))\n",
    ")"
   ]
  },
  {
   "cell_type": "code",
   "execution_count": null,
   "id": "acaebb4b",
   "metadata": {
    "execution": {
     "iopub.execute_input": "2021-09-02T04:12:04.454231Z",
     "iopub.status.busy": "2021-09-02T04:12:04.453904Z",
     "iopub.status.idle": "2021-09-02T04:12:04.536882Z",
     "shell.execute_reply": "2021-09-02T04:12:04.536108Z",
     "shell.execute_reply.started": "2021-09-02T04:12:04.454203Z"
    },
    "papermill": {
     "duration": null,
     "end_time": null,
     "exception": null,
     "start_time": null,
     "status": "pending"
    },
    "tags": []
   },
   "outputs": [],
   "source": [
    "y_pred = model.predict(X_test)\n",
    "if(y_pred>0.5).all():\n",
    "    print(\"This image is not safe to use and it depicts Nudity\")\n",
    "elif(y_pred<0.5).all():\n",
    "    print(\"Safe to use\")\n",
    "else:\n",
    "    print(\"Invalid Image\")"
   ]
  },
  {
   "cell_type": "markdown",
   "id": "44a7ac27",
   "metadata": {
    "papermill": {
     "duration": null,
     "end_time": null,
     "exception": null,
     "start_time": null,
     "status": "pending"
    },
    "tags": []
   },
   "source": [
    "**Model tells that the above two images are safe images which is precise.**"
   ]
  },
  {
   "cell_type": "markdown",
   "id": "e5c0c320",
   "metadata": {
    "papermill": {
     "duration": null,
     "end_time": null,
     "exception": null,
     "start_time": null,
     "status": "pending"
    },
    "tags": []
   },
   "source": [
    "# Overall our model predicts accurately with an accuracy of around 93%"
   ]
  }
 ],
 "metadata": {
  "kernelspec": {
   "display_name": "Python 3 (ipykernel)",
   "language": "python",
   "name": "python3"
  },
  "language_info": {
   "codemirror_mode": {
    "name": "ipython",
    "version": 3
   },
   "file_extension": ".py",
   "mimetype": "text/x-python",
   "name": "python",
   "nbconvert_exporter": "python",
   "pygments_lexer": "ipython3",
   "version": "3.10.4"
  },
  "papermill": {
   "default_parameters": {},
   "duration": 156.753405,
   "end_time": "2022-05-25T10:17:14.981885",
   "environment_variables": {},
   "exception": true,
   "input_path": "__notebook__.ipynb",
   "output_path": "__notebook__.ipynb",
   "parameters": {},
   "start_time": "2022-05-25T10:14:38.228480",
   "version": "2.3.3"
  }
 },
 "nbformat": 4,
 "nbformat_minor": 5
}
